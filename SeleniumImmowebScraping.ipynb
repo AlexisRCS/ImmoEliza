{
 "cells": [
  {
   "cell_type": "markdown",
   "metadata": {},
   "source": [
    "# Testing Selenium Scraping on Immoweb"
   ]
  },
  {
   "cell_type": "markdown",
   "metadata": {},
   "source": [
    "## First do the usefulls imports"
   ]
  },
  {
   "cell_type": "code",
   "execution_count": null,
   "metadata": {},
   "outputs": [],
   "source": [
    "from selenium import webdriver\n",
    "from selenium.webdriver.common.keys import Keys\n",
    "from selenium.webdriver.common.by import By\n",
    "import json\n",
    "import time"
   ]
  },
  {
   "cell_type": "markdown",
   "metadata": {},
   "source": [
    "## Manage the cookies on Immoweb"
   ]
  },
  {
   "cell_type": "code",
   "execution_count": null,
   "metadata": {},
   "outputs": [],
   "source": [
    "driver = webdriver.Chrome()\n",
    "driver.maximize_window()\n",
    "driver.get(\"https://www.immoweb.be/en\")\n",
    "time.sleep(3)\n",
    "cookies = driver.find_element(By.XPATH,'/html/body/div[3]/div[4]/div[2]/div/div[2]/div[1]/button')\n",
    "cookies.click()\n",
    "driver.close()"
   ]
  },
  {
   "cell_type": "markdown",
   "metadata": {},
   "source": [
    "#### Can be improve ...\n",
    "\n"
   ]
  },
  {
   "cell_type": "markdown",
   "metadata": {},
   "source": [
    "## Create urls data saving in a .json file"
   ]
  },
  {
   "cell_type": "code",
   "execution_count": null,
   "metadata": {},
   "outputs": [],
   "source": [
    "def save_cache (provinces_urls_dict) :\n",
    "    \n",
    "    with open(\"cache_urls.json\",\"w\") as my_file :\n",
    "        json.dump(provinces_urls_dict,my_file)"
   ]
  },
  {
   "cell_type": "markdown",
   "metadata": {},
   "source": [
    "## Extract URLs of Houses and Appartments for sale inside an Immoweb page"
   ]
  },
  {
   "cell_type": "code",
   "execution_count": null,
   "metadata": {},
   "outputs": [],
   "source": [
    "driver = webdriver.Chrome()\n",
    "driver.maximize_window()\n",
    "driver.get(\"https://www.immoweb.be/en\")\n",
    "time.sleep(3)\n",
    "cookies = driver.find_element(By.XPATH,'/html/body/div[3]/div[4]/div[2]/div/div[2]/div[1]/button')\n",
    "cookies.click()\n",
    "\n",
    "H_A_page_urls_set = set()\n",
    "driver.get(\"https://www.immoweb.be/en/search/house-and-apartment/for-sale/brussels/province?countries=BE&isALifeAnnuitySale=false&page=1&orderBy=relevance\")\n",
    "H_A_driver_list = driver.find_elements(By.XPATH,'/html/body/div[1]/div[1]/div/main/div/div[2]/div/div[3]/div/div[1]/div[1]/div[1]/ul/li[*]/article/div[1]/h2/a')\n",
    "H_A_page_urls_set = {H_A.get_attribute(\"href\") for H_A in H_A_driver_list}\n",
    "print(H_A_page_urls_set)\n",
    "driver.close()"
   ]
  },
  {
   "cell_type": "markdown",
   "metadata": {},
   "source": [
    "### Create the appropriate function to extract URLs"
   ]
  },
  {
   "cell_type": "code",
   "execution_count": null,
   "metadata": {},
   "outputs": [],
   "source": [
    "def get_houses_appartments_page_urls(driver) :\n",
    "    \n",
    "    H_A_driver_list = driver.find_elements(By.XPATH,'/html/body/div[1]/div[1]/div/main/div/div[2]/div/div[3]/div/div[1]/div[1]/div[1]/ul/li[*]/article/div[1]/h2/a')\n",
    "    H_A_page_urls_set = {H_A.get_attribute(\"href\") for H_A in H_A_driver_list}\n",
    "    \n",
    "    return H_A_page_urls_set"
   ]
  },
  {
   "cell_type": "markdown",
   "metadata": {},
   "source": [
    "## Loop over all the Immoweb pages (Houses and Appartements for sales) for one Province"
   ]
  },
  {
   "cell_type": "code",
   "execution_count": null,
   "metadata": {},
   "outputs": [],
   "source": [
    "driver = webdriver.Chrome()\n",
    "driver.maximize_window()\n",
    "driver.get(f\"https://www.immoweb.be/en\")\n",
    "time.sleep(3)\n",
    "cookies = driver.find_element(By.XPATH,'/html/body/div[3]/div[4]/div[2]/div/div[2]/div[1]/button')\n",
    "cookies.click()\n",
    "\n",
    "H_A_page_urls_set = set()\n",
    "driver.get(f\"https://www.immoweb.be/en/search/house-and-apartment/for-sale/brussels/province?countries=BE&isALifeAnnuitySale=false&page=1&orderBy=relevance\")\n",
    "max_page = int(driver.find_element(By.XPATH,'/html/body/div[1]/div[1]/div/main/div/div[2]/div/div[3]/div/div[1]/div[1]/div[1]/div/div[1]/div/nav/ul/li[4]/a/span[2]').text)\n",
    "#extract urls\n",
    "\n",
    "for page in range(2,max_page+1) :\n",
    "\n",
    "    driver.get(f\"https://www.immoweb.be/en/search/house-and-apartment/for-sale/brussels/province?countries=BE&isALifeAnnuitySale=false&page={page}&orderBy=relevance\")\n",
    "    #extract urls\n",
    "\n",
    "driver.close()"
   ]
  },
  {
   "cell_type": "markdown",
   "metadata": {},
   "source": [
    "### Create the appropriate function to loop over all pages for one Province and extract URLs"
   ]
  },
  {
   "cell_type": "code",
   "execution_count": null,
   "metadata": {},
   "outputs": [],
   "source": [
    "def get_houses_appartments_pages_urls(driver,province) :\n",
    "    \n",
    "    H_A_pages_urls_set = set()\n",
    "    driver.get(f\"https://www.immoweb.be/en/search/house-and-apartment/for-sale/{province}/province?countries=BE&isALifeAnnuitySale=false&page=1&orderBy=relevance\")\n",
    "    max_page = int(driver.find_element(By.XPATH,'/html/body/div[1]/div[1]/div/main/div/div[2]/div/div[3]/div/div[1]/div[1]/div[1]/div/div[1]/div/nav/ul/li[4]/a/span[2]').text)\n",
    "\n",
    "    H_A_pages_urls_set.update(get_houses_appartments_page_urls(driver))\n",
    "\n",
    "    for page in range(2,max_page+1) :\n",
    "\n",
    "        driver.get(f\"https://www.immoweb.be/en/search/house-and-apartment/for-sale/{province}/province?countries=BE&isALifeAnnuitySale=false&page={page}&orderBy=relevance\")\n",
    "\n",
    "        H_A_pages_urls_set.update(get_houses_appartments_page_urls(driver))\n",
    "\n",
    "    return H_A_pages_urls_set"
   ]
  },
  {
   "cell_type": "markdown",
   "metadata": {},
   "source": [
    "## Loop over all the Immoweb Provinces pages (Houses and Appartements for sales)"
   ]
  },
  {
   "cell_type": "code",
   "execution_count": null,
   "metadata": {},
   "outputs": [],
   "source": [
    "driver = webdriver.Chrome()\n",
    "driver.maximize_window()\n",
    "driver.get(f\"https://www.immoweb.be/en\")\n",
    "time.sleep(3)\n",
    "cookies = driver.find_element(By.XPATH,'/html/body/div[3]/div[4]/div[2]/div/div[2]/div[1]/button')\n",
    "cookies.click()\n",
    "\n",
    "belgium_provinces = (\"brussels\",\"liege\",\"namur\",\"luxembourg\",\"hainaut\",\"walloon-brabant\",\"antwerp\",\"limburg\",\"west-flanders\",\"east-flanders\",\"flemish-brabant\")\n",
    "H_A_pages_urls_set = set()\n",
    "\n",
    "for province in belgium_provinces :\n",
    "    driver.get(f\"https://www.immoweb.be/en/search/house-and-apartment/for-sale/{province}/province?countries=BE&isALifeAnnuitySale=false&page=1&orderBy=relevance\")\n",
    "    # loop on pages and extract urls\n",
    "\n",
    "driver.close()"
   ]
  },
  {
   "cell_type": "markdown",
   "metadata": {},
   "source": [
    "### Create the appropriate function to loop over all Provinces pages"
   ]
  },
  {
   "cell_type": "code",
   "execution_count": null,
   "metadata": {},
   "outputs": [],
   "source": [
    "def get_houses_appartments_site_urls() :\n",
    "\n",
    "    provinces_urls_dict = {}\n",
    "    belgium_provinces = [\"brussels\",\"liege\",\"namur\",\"luxembourg\",\"hainaut\",\"walloon-brabant\",\"antwerp\",\"limburg\",\"west-flanders\",\"east-flanders\",\"flemish-brabant\"]\n",
    "\n",
    "    for province in belgium_provinces :\n",
    "        provinces_urls_dict[province] = list(get_houses_appartments_pages_urls(driver,province))\n",
    "\n",
    "    return  provinces_urls_dict"
   ]
  },
  {
   "cell_type": "markdown",
   "metadata": {},
   "source": [
    "## Extract House or Appartement Data from an Immoweb property description page"
   ]
  },
  {
   "cell_type": "code",
   "execution_count": null,
   "metadata": {},
   "outputs": [],
   "source": []
  },
  {
   "cell_type": "markdown",
   "metadata": {},
   "source": [
    "## Create the appropriate Script"
   ]
  },
  {
   "cell_type": "code",
   "execution_count": null,
   "metadata": {},
   "outputs": [],
   "source": [
    "from selenium import webdriver\n",
    "from selenium.webdriver.common.keys import Keys\n",
    "from selenium.webdriver.common.by import By\n",
    "import time\n",
    "import json\n",
    "\n",
    "\n",
    "\n",
    "def save_cache (for_sell_immoweb_urls) :\n",
    "    \n",
    "    with open(\"cache_urls.json\",\"w\") as my_file :\n",
    "        json.dump(for_sell_immoweb_urls,my_file)\n",
    "\n",
    "\n",
    "def get_houses_appartments_page_urls(driver) :\n",
    "    \n",
    "    H_A_driver_list = driver.find_elements(By.XPATH,'/html/body/div[1]/div[1]/div/main/div/div[2]/div/div[3]/div/div[1]/div[1]/div[1]/ul/li[*]/article/div[1]/h2/a')\n",
    "    H_A_page_urls_set = {H_A.get_attribute(\"href\") for H_A in H_A_driver_list}\n",
    "    \n",
    "    return H_A_page_urls_set\n",
    "\n",
    "\n",
    "def get_houses_appartments_pages_urls(driver,province) :\n",
    "    \n",
    "    H_A_pages_urls_set = set()\n",
    "    driver.get(f\"https://www.immoweb.be/en/search/house-and-apartment/for-sale/{province}/province?countries=BE&isALifeAnnuitySale=false&page=1&orderBy=relevance\")\n",
    "    max_page = int(driver.find_element(By.XPATH,'/html/body/div[1]/div[1]/div/main/div/div[2]/div/div[3]/div/div[1]/div[1]/div[1]/div/div[1]/div/nav/ul/li[4]/a/span[2]').text)\n",
    "\n",
    "    H_A_pages_urls_set.update(get_houses_appartments_page_urls(driver))\n",
    "\n",
    "    for page in range(2,max_page+1) :\n",
    "\n",
    "        driver.get(f\"https://www.immoweb.be/en/search/house-and-apartment/for-sale/{province}/province?countries=BE&isALifeAnnuitySale=false&page={page}&orderBy=relevance\")\n",
    "\n",
    "        H_A_pages_urls_set.update(get_houses_appartments_page_urls(driver))\n",
    "\n",
    "    return H_A_pages_urls_set\n",
    "\n",
    "\n",
    "def get_houses_appartments_site_urls() :\n",
    "\n",
    "    driver = webdriver.Chrome()\n",
    "    driver.maximize_window()\n",
    "    driver.get(\"https://www.immoweb.be/en\")\n",
    "    time.sleep(3)\n",
    "    cookies = driver.find_element(By.XPATH,'/html/body/div[3]/div[4]/div[2]/div/div[2]/div[1]/button')\n",
    "    cookies.click()\n",
    "\n",
    "    provinces_urls_dict = {}\n",
    "    belgium_provinces = [\"brussels\",\"liege\",\"namur\",\"luxembourg\",\"hainaut\",\"walloon-brabant\",\"antwerp\",\"limburg\",\"west-flanders\",\"east-flanders\",\"flemish-brabant\"]\n",
    "\n",
    "    for province in belgium_provinces :\n",
    "        provinces_urls_dict[province] = list(get_houses_appartments_pages_urls(driver,province))\n",
    "\n",
    "    driver.close()\n",
    "\n",
    "    return  provinces_urls_dict\n",
    "\n",
    "   \n",
    "\n",
    "if __name__ == '__main__' :\n",
    "\n",
    "    for_sell_immoweb_urls = get_houses_appartments_site_urls()\n",
    "    save_cache(for_sell_immoweb_urls)"
   ]
  },
  {
   "cell_type": "markdown",
   "metadata": {},
   "source": [
    "### Improve the Script with Concurrency and Parallelism"
   ]
  },
  {
   "cell_type": "code",
   "execution_count": null,
   "metadata": {},
   "outputs": [],
   "source": [
    "from selenium import webdriver\n",
    "from selenium.webdriver.common.keys import Keys\n",
    "from selenium.webdriver.common.by import By\n",
    "from multiprocessing import Pool\n",
    "import json\n",
    "\n",
    "\n",
    "\n",
    "def save_cache (H_A_sell_immoweb_urls) :\n",
    "    \n",
    "    with open(\"cache_urls.json\",\"w\") as my_file :\n",
    "        json.dump(H_A_sell_immoweb_urls,my_file)\n",
    "\n",
    "\n",
    "def get_houses_appartments_page_urls(driver) :\n",
    "    \n",
    "    H_A_driver_list = driver.find_elements(By.XPATH,'/html/body/div[1]/div[1]/div/main/div/div[2]/div/div[3]/div/div[1]/div[1]/div[1]/ul/li[*]/article/div[1]/h2/a')\n",
    "    H_A_page_urls_set = {H_A.get_attribute(\"href\") for H_A in H_A_driver_list}\n",
    "    \n",
    "    return H_A_page_urls_set\n",
    "\n",
    "\n",
    "def get_houses_appartments_pages_urls(province) :\n",
    "    \n",
    "    H_A_pages_urls_set = set()\n",
    "    driver = webdriver.Chrome()\n",
    "    page = 1\n",
    "    \n",
    "    while True :\n",
    "\n",
    "        driver.get(f\"https://www.immoweb.be/en/search/house-and-apartment/for-sale/{province}/province?countries=BE&isALifeAnnuitySale=false&page={page}&orderBy=relevance\")\n",
    "\n",
    "        try :\n",
    "            \n",
    "            if driver.find_element(By.XPATH,'/html/body/div[1]/div[1]/div/main/div/div[2]/div/div[2]/div/div/div[2]/h1').text == \"Sorry, no matching results.\" :\n",
    "                    break\n",
    "        except :\n",
    "        \n",
    "            try :\n",
    "                if driver.find_element(By.XPATH,'/html/body/div[1]/div[1]/main/div/div/div[2]/p[1]/strong').text == \"500 server error\" :\n",
    "                    break\n",
    "            except :\n",
    "\n",
    "                H_A_pages_urls_set.update(get_houses_appartments_page_urls(driver))\n",
    "            \n",
    "                page += 1\n",
    "    \n",
    "    driver.close()\n",
    "\n",
    "    return H_A_pages_urls_set\n",
    "\n",
    "\n",
    "def get_houses_appartments_site_urls() :\n",
    "    \n",
    "    belgium_provinces = [\"brussels\",\"liege\",\"namur\",\"luxembourg\",\"hainaut\",\"walloon-brabant\",\"antwerp\",\"limburg\",\"west-flanders\",\"east-flanders\",\"flemish-brabant\"]\n",
    "\n",
    "    with Pool(2) as pool:\n",
    "\n",
    "        site_urls_pool_output = list(pool.map(get_houses_appartments_pages_urls,belgium_provinces))\n",
    "\n",
    "    provinces_urls_dict = {province : list(site_urls_pool_output[index]) for index,province in enumerate(belgium_provinces)}\n",
    "    \n",
    "    return  provinces_urls_dict\n",
    "\n",
    "\n",
    "\n",
    "if __name__ == '__main__' :\n",
    "\n",
    "    H_A_sell_immoweb_urls = get_houses_appartments_site_urls()\n",
    "    save_cache(H_A_sell_immoweb_urls)"
   ]
  },
  {
   "cell_type": "markdown",
   "metadata": {},
   "source": [
    "## Create the appropriate Class & Import"
   ]
  },
  {
   "cell_type": "code",
   "execution_count": null,
   "metadata": {},
   "outputs": [],
   "source": [
    "from selenium import webdriver\n",
    "from selenium.webdriver.common.keys import Keys\n",
    "from selenium.webdriver.common.by import By\n",
    "import time\n",
    "\n",
    "class Immoweb_H_A_Data_pool() :\n",
    "    pass\n",
    "\n",
    "#to do"
   ]
  }
 ],
 "metadata": {
  "kernelspec": {
   "display_name": "Python 3.10.6 64-bit",
   "language": "python",
   "name": "python3"
  },
  "language_info": {
   "codemirror_mode": {
    "name": "ipython",
    "version": 3
   },
   "file_extension": ".py",
   "mimetype": "text/x-python",
   "name": "python",
   "nbconvert_exporter": "python",
   "pygments_lexer": "ipython3",
   "version": "3.10.6"
  },
  "orig_nbformat": 4,
  "vscode": {
   "interpreter": {
    "hash": "916dbcbb3f70747c44a77c7bcd40155683ae19c65e1c03b4aa3499c5328201f1"
   }
  }
 },
 "nbformat": 4,
 "nbformat_minor": 2
}
