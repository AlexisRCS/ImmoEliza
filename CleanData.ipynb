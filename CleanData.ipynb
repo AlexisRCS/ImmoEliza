{
 "cells": [
  {
   "cell_type": "markdown",
   "metadata": {},
   "source": [
    "# Clean Data"
   ]
  },
  {
   "cell_type": "markdown",
   "metadata": {},
   "source": [
    "## Do the usefuls imports"
   ]
  },
  {
   "cell_type": "code",
   "execution_count": 24,
   "metadata": {},
   "outputs": [],
   "source": [
    "import pandas as pd\n",
    "import numpy as np\n",
    "from sklearn.utils import shuffle\n",
    "from sklearn.model_selection  import train_test_split"
   ]
  },
  {
   "cell_type": "markdown",
   "metadata": {},
   "source": [
    "## Add mapping for type of kitchen + state of building, clean nan in price, surface + rooms and remove useless columns"
   ]
  },
  {
   "cell_type": "code",
   "execution_count": 27,
   "metadata": {},
   "outputs": [],
   "source": [
    "df = pd.read_csv('60k.csv')\n",
    "\n",
    "labels = df.columns\n",
    "\n",
    "for label in labels :\n",
    "\n",
    "    df[label] =df[label].replace(-1, np.nan)\n",
    "\n",
    "map_state_of_the_building = {\n",
    "                            \"AS_NEW\" : 3.0,\n",
    "                            \"JUST_RENOVATED\" : 2.0,\n",
    "                            \"GOOD\" : 2.0,\n",
    "                            \"TO_BE_DONE_UP\" : 1.5,\n",
    "                            \"TO_RENOVATE\" : 1.0,\n",
    "                            \"TO_RESTORE\" : 0.0\n",
    "                            }\n",
    "\n",
    "map_kitchen_type = {            \n",
    "                            \"USA_HYPER_EQUIPPED\" : 2.5,\n",
    "                            \"HYPER_EQUIPPED\" : 2.0,\n",
    "                            \"USA_INSTALLED\" : 1.5,\n",
    "                            \"INSTALLED\" : 1.0,\n",
    "                            \"SEMI_EQUIPPED\" : 1.0,\n",
    "                            \"USA_SEMI_EQUIPPED\" : 1.0,\n",
    "                            \"USA_UNINSTALLED\" : 0.0,\n",
    "                            \"NOT_INSTALLED\" : 0.0\n",
    "                            }\n",
    "\n",
    "map_region = {\"Wallonie\" : \"Wallonia\"}\n",
    "\n",
    "df[\"state_of_the_building\"] = df[\"state_of_the_building\"].map(map_state_of_the_building)\n",
    "df[\"kitchen_type\"] = df[\"kitchen_type\"].map(map_kitchen_type)\n",
    "df[\"region\"] = df[\"region\"].map(map_region).fillna(df[\"region\"])\n",
    "\n",
    "df = df.drop(\"Unnamed: 0\", axis = 1)\n",
    "df = df.drop(\"locality\", axis = 1)\n",
    "df = df.drop(\"subtype_of_property\", axis = 1)\n",
    "df = df.drop(\"fully_equipped_kitchen\", axis = 1)\n",
    "df = df[(df[\"type_of_sale\"] == \"residential_sale\")]\n",
    "df = df.drop(\"type_of_sale\", axis = 1)\n",
    "\n",
    "df = df[(df[\"type_of_property\"] == \"HOUSE\")|(df[\"type_of_property\"] == \"APARTMENT\")]\n",
    "df[\"priceperm2\"] = df[\"price\"]/df[\"surface\"]\n",
    "df = df[~(df[\"priceperm2\"].isna())]\n",
    "df = df[~(df[\"number_of_bedrooms\"].isna())]\n",
    "\n",
    "df = shuffle(df)\n",
    "\n",
    "df_train, df_dev_test = train_test_split(df,test_size = 0.3)\n",
    "df_dev, df_test = train_test_split(df_dev_test,test_size = 0.5)\n",
    "\n",
    "df_train = df_train.reset_index(drop = True)\n",
    "df_dev = df_dev.reset_index(drop = True)\n",
    "df_test = df_test.reset_index(drop = True)\n",
    "\n",
    "df_train.to_csv(\"df_train.csv\",index = False)\n",
    "df_dev.to_csv(\"df_dev.csv\",index = False)\n",
    "df_test.to_csv(\"df_test.csv\",index = False)\n"
   ]
  }
 ],
 "metadata": {
  "kernelspec": {
   "display_name": "Python 3.10.6 64-bit",
   "language": "python",
   "name": "python3"
  },
  "language_info": {
   "codemirror_mode": {
    "name": "ipython",
    "version": 3
   },
   "file_extension": ".py",
   "mimetype": "text/x-python",
   "name": "python",
   "nbconvert_exporter": "python",
   "pygments_lexer": "ipython3",
   "version": "3.10.6"
  },
  "orig_nbformat": 4,
  "vscode": {
   "interpreter": {
    "hash": "916dbcbb3f70747c44a77c7bcd40155683ae19c65e1c03b4aa3499c5328201f1"
   }
  }
 },
 "nbformat": 4,
 "nbformat_minor": 2
}
